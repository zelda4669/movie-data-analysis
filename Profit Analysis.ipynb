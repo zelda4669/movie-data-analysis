{
 "cells": [
  {
   "cell_type": "markdown",
   "id": "5398ba94",
   "metadata": {},
   "source": [
    "# Profit Analysis"
   ]
  },
  {
   "cell_type": "markdown",
   "id": "da5a02ce",
   "metadata": {},
   "source": [
    "## Overview"
   ]
  },
  {
   "cell_type": "markdown",
   "id": "1ec05752",
   "metadata": {},
   "source": [
    "This project analyzes box office and streaming data to provide strategic direction for a newly formed movie division. Our analysis explores financial data, film ratings, and viewership data to help guide the division in deciding what types of movies to create."
   ]
  },
  {
   "cell_type": "markdown",
   "id": "85fbdb5e",
   "metadata": {},
   "source": [
    "## Business Problem"
   ]
  },
  {
   "cell_type": "markdown",
   "id": "719f0900",
   "metadata": {},
   "source": [
    "Microsoft is interested in entering the content creation space, and we need to use data insights to help them figure out how to launch their studio."
   ]
  },
  {
   "cell_type": "markdown",
   "id": "80a0a17c",
   "metadata": {},
   "source": [
    "## Notebook Overview"
   ]
  },
  {
   "cell_type": "markdown",
   "id": "52a0868e",
   "metadata": {},
   "source": [
    "Critical for any new business venture is to add value as quickly as possible. I have analyzed recent movie budgets compared to their domestic and global gross to help identify patterns."
   ]
  },
  {
   "cell_type": "code",
   "execution_count": 27,
   "id": "ca36847a",
   "metadata": {},
   "outputs": [],
   "source": [
    "#import necessary libraries\n",
    "import pandas as pd\n",
    "import numpy as np\n",
    "import seaborn as sns\n",
    "import matplotlib.pyplot as plt\n",
    "%matplotlib inline\n",
    "\n",
    "#import datasets\n",
    "domestic_profit = pd.read_csv('data/Edited Data/Domestic Profits.csv')\n",
    "worldwide_profit = pd.read_csv('data/Edited Data/Worldwide Profits.csv')"
   ]
  },
  {
   "cell_type": "code",
   "execution_count": 31,
   "id": "abefc513",
   "metadata": {},
   "outputs": [],
   "source": [
    "domestic_profit.sort_values(by='production_budget', ascending=False, inplace=True)"
   ]
  },
  {
   "cell_type": "code",
   "execution_count": 41,
   "id": "7ecb6973",
   "metadata": {},
   "outputs": [
    {
     "data": {
      "text/html": [
       "<div>\n",
       "<style scoped>\n",
       "    .dataframe tbody tr th:only-of-type {\n",
       "        vertical-align: middle;\n",
       "    }\n",
       "\n",
       "    .dataframe tbody tr th {\n",
       "        vertical-align: top;\n",
       "    }\n",
       "\n",
       "    .dataframe thead th {\n",
       "        text-align: right;\n",
       "    }\n",
       "</style>\n",
       "<table border=\"1\" class=\"dataframe\">\n",
       "  <thead>\n",
       "    <tr style=\"text-align: right;\">\n",
       "      <th></th>\n",
       "      <th>release_date</th>\n",
       "      <th>movie</th>\n",
       "      <th>production_budget</th>\n",
       "      <th>domestic_gross</th>\n",
       "      <th>domestic_profit</th>\n",
       "      <th>Year</th>\n",
       "    </tr>\n",
       "  </thead>\n",
       "  <tbody>\n",
       "    <tr>\n",
       "      <th>2361</th>\n",
       "      <td>2011-05-20</td>\n",
       "      <td>Pirates of the Caribbean: On Stranger Tides</td>\n",
       "      <td>410600000.0</td>\n",
       "      <td>241063875.0</td>\n",
       "      <td>-169536125.0</td>\n",
       "      <td>2011</td>\n",
       "    </tr>\n",
       "    <tr>\n",
       "      <th>2364</th>\n",
       "      <td>2019-06-07</td>\n",
       "      <td>Dark Phoenix</td>\n",
       "      <td>350000000.0</td>\n",
       "      <td>42762350.0</td>\n",
       "      <td>-307237650.0</td>\n",
       "      <td>2019</td>\n",
       "    </tr>\n",
       "    <tr>\n",
       "      <th>78</th>\n",
       "      <td>2015-05-01</td>\n",
       "      <td>Avengers: Age of Ultron</td>\n",
       "      <td>330600000.0</td>\n",
       "      <td>459005868.0</td>\n",
       "      <td>128405868.0</td>\n",
       "      <td>2015</td>\n",
       "    </tr>\n",
       "    <tr>\n",
       "      <th>11</th>\n",
       "      <td>2017-12-15</td>\n",
       "      <td>Star Wars Ep. VIII: The Last Jedi</td>\n",
       "      <td>317000000.0</td>\n",
       "      <td>620181382.0</td>\n",
       "      <td>303181382.0</td>\n",
       "      <td>2017</td>\n",
       "    </tr>\n",
       "    <tr>\n",
       "      <th>0</th>\n",
       "      <td>2015-12-18</td>\n",
       "      <td>Star Wars Ep. VII: The Force Awakens</td>\n",
       "      <td>306000000.0</td>\n",
       "      <td>936662225.0</td>\n",
       "      <td>630662225.0</td>\n",
       "      <td>2015</td>\n",
       "    </tr>\n",
       "    <tr>\n",
       "      <th>...</th>\n",
       "      <td>...</td>\n",
       "      <td>...</td>\n",
       "      <td>...</td>\n",
       "      <td>...</td>\n",
       "      <td>...</td>\n",
       "      <td>...</td>\n",
       "    </tr>\n",
       "    <tr>\n",
       "      <th>981</th>\n",
       "      <td>2014-12-31</td>\n",
       "      <td>Stories of Our Lives</td>\n",
       "      <td>15000.0</td>\n",
       "      <td>0.0</td>\n",
       "      <td>-15000.0</td>\n",
       "      <td>2014</td>\n",
       "    </tr>\n",
       "    <tr>\n",
       "      <th>979</th>\n",
       "      <td>2015-05-19</td>\n",
       "      <td>Family Motocross</td>\n",
       "      <td>10000.0</td>\n",
       "      <td>0.0</td>\n",
       "      <td>-10000.0</td>\n",
       "      <td>2015</td>\n",
       "    </tr>\n",
       "    <tr>\n",
       "      <th>977</th>\n",
       "      <td>2012-01-13</td>\n",
       "      <td>Newlyweds</td>\n",
       "      <td>9000.0</td>\n",
       "      <td>4584.0</td>\n",
       "      <td>-4416.0</td>\n",
       "      <td>2012</td>\n",
       "    </tr>\n",
       "    <tr>\n",
       "      <th>978</th>\n",
       "      <td>2018-12-31</td>\n",
       "      <td>Red 11</td>\n",
       "      <td>7000.0</td>\n",
       "      <td>0.0</td>\n",
       "      <td>-7000.0</td>\n",
       "      <td>2018</td>\n",
       "    </tr>\n",
       "    <tr>\n",
       "      <th>974</th>\n",
       "      <td>2015-09-29</td>\n",
       "      <td>A Plague So Pleasant</td>\n",
       "      <td>1400.0</td>\n",
       "      <td>0.0</td>\n",
       "      <td>-1400.0</td>\n",
       "      <td>2015</td>\n",
       "    </tr>\n",
       "  </tbody>\n",
       "</table>\n",
       "<p>2365 rows × 6 columns</p>\n",
       "</div>"
      ],
      "text/plain": [
       "     release_date                                        movie  \\\n",
       "2361   2011-05-20  Pirates of the Caribbean: On Stranger Tides   \n",
       "2364   2019-06-07                                 Dark Phoenix   \n",
       "78     2015-05-01                      Avengers: Age of Ultron   \n",
       "11     2017-12-15            Star Wars Ep. VIII: The Last Jedi   \n",
       "0      2015-12-18         Star Wars Ep. VII: The Force Awakens   \n",
       "...           ...                                          ...   \n",
       "981    2014-12-31                         Stories of Our Lives   \n",
       "979    2015-05-19                             Family Motocross   \n",
       "977    2012-01-13                                    Newlyweds   \n",
       "978    2018-12-31                                       Red 11   \n",
       "974    2015-09-29                         A Plague So Pleasant   \n",
       "\n",
       "      production_budget  domestic_gross  domestic_profit  Year  \n",
       "2361        410600000.0     241063875.0     -169536125.0  2011  \n",
       "2364        350000000.0      42762350.0     -307237650.0  2019  \n",
       "78          330600000.0     459005868.0      128405868.0  2015  \n",
       "11          317000000.0     620181382.0      303181382.0  2017  \n",
       "0           306000000.0     936662225.0      630662225.0  2015  \n",
       "...                 ...             ...              ...   ...  \n",
       "981             15000.0             0.0         -15000.0  2014  \n",
       "979             10000.0             0.0         -10000.0  2015  \n",
       "977              9000.0          4584.0          -4416.0  2012  \n",
       "978              7000.0             0.0          -7000.0  2018  \n",
       "974              1400.0             0.0          -1400.0  2015  \n",
       "\n",
       "[2365 rows x 6 columns]"
      ]
     },
     "execution_count": 41,
     "metadata": {},
     "output_type": "execute_result"
    }
   ],
   "source": [
    "domestic_profit"
   ]
  },
  {
   "cell_type": "code",
   "execution_count": 32,
   "id": "3ece7cea",
   "metadata": {},
   "outputs": [
    {
     "data": {
      "text/html": [
       "<div>\n",
       "<style scoped>\n",
       "    .dataframe tbody tr th:only-of-type {\n",
       "        vertical-align: middle;\n",
       "    }\n",
       "\n",
       "    .dataframe tbody tr th {\n",
       "        vertical-align: top;\n",
       "    }\n",
       "\n",
       "    .dataframe thead th {\n",
       "        text-align: right;\n",
       "    }\n",
       "</style>\n",
       "<table border=\"1\" class=\"dataframe\">\n",
       "  <thead>\n",
       "    <tr style=\"text-align: right;\">\n",
       "      <th></th>\n",
       "      <th>production_budget</th>\n",
       "      <th>domestic_gross</th>\n",
       "      <th>domestic_profit</th>\n",
       "      <th>Year</th>\n",
       "    </tr>\n",
       "  </thead>\n",
       "  <tbody>\n",
       "    <tr>\n",
       "      <th>count</th>\n",
       "      <td>2.365000e+03</td>\n",
       "      <td>2.365000e+03</td>\n",
       "      <td>2.365000e+03</td>\n",
       "      <td>2365.000000</td>\n",
       "    </tr>\n",
       "    <tr>\n",
       "      <th>mean</th>\n",
       "      <td>3.424847e+07</td>\n",
       "      <td>4.252810e+07</td>\n",
       "      <td>8.279630e+06</td>\n",
       "      <td>2016.821987</td>\n",
       "    </tr>\n",
       "    <tr>\n",
       "      <th>std</th>\n",
       "      <td>5.034249e+07</td>\n",
       "      <td>7.754915e+07</td>\n",
       "      <td>5.350891e+07</td>\n",
       "      <td>11.525225</td>\n",
       "    </tr>\n",
       "    <tr>\n",
       "      <th>min</th>\n",
       "      <td>1.400000e+03</td>\n",
       "      <td>0.000000e+00</td>\n",
       "      <td>-3.072376e+08</td>\n",
       "      <td>2010.000000</td>\n",
       "    </tr>\n",
       "    <tr>\n",
       "      <th>25%</th>\n",
       "      <td>3.500000e+06</td>\n",
       "      <td>1.284860e+05</td>\n",
       "      <td>-9.297580e+06</td>\n",
       "      <td>2012.000000</td>\n",
       "    </tr>\n",
       "    <tr>\n",
       "      <th>50%</th>\n",
       "      <td>1.500000e+07</td>\n",
       "      <td>1.222772e+07</td>\n",
       "      <td>-9.000000e+05</td>\n",
       "      <td>2014.000000</td>\n",
       "    </tr>\n",
       "    <tr>\n",
       "      <th>75%</th>\n",
       "      <td>4.000000e+07</td>\n",
       "      <td>5.102471e+07</td>\n",
       "      <td>1.365640e+07</td>\n",
       "      <td>2016.000000</td>\n",
       "    </tr>\n",
       "    <tr>\n",
       "      <th>max</th>\n",
       "      <td>4.106000e+08</td>\n",
       "      <td>9.366622e+08</td>\n",
       "      <td>6.306622e+08</td>\n",
       "      <td>2070.000000</td>\n",
       "    </tr>\n",
       "  </tbody>\n",
       "</table>\n",
       "</div>"
      ],
      "text/plain": [
       "       production_budget  domestic_gross  domestic_profit         Year\n",
       "count       2.365000e+03    2.365000e+03     2.365000e+03  2365.000000\n",
       "mean        3.424847e+07    4.252810e+07     8.279630e+06  2016.821987\n",
       "std         5.034249e+07    7.754915e+07     5.350891e+07    11.525225\n",
       "min         1.400000e+03    0.000000e+00    -3.072376e+08  2010.000000\n",
       "25%         3.500000e+06    1.284860e+05    -9.297580e+06  2012.000000\n",
       "50%         1.500000e+07    1.222772e+07    -9.000000e+05  2014.000000\n",
       "75%         4.000000e+07    5.102471e+07     1.365640e+07  2016.000000\n",
       "max         4.106000e+08    9.366622e+08     6.306622e+08  2070.000000"
      ]
     },
     "execution_count": 32,
     "metadata": {},
     "output_type": "execute_result"
    }
   ],
   "source": [
    "domestic_profit.describe()"
   ]
  },
  {
   "cell_type": "markdown",
   "id": "a50c11e1",
   "metadata": {},
   "source": [
    "A quick look at the summary statistics for this data shows that the median \"profit\" for movies is a loss of $900,000. This highlights the importance of proceeding thoughtfully--it is just as easy to lose money as it is to make money."
   ]
  },
  {
   "cell_type": "code",
   "execution_count": 55,
   "id": "7f90d8ee",
   "metadata": {},
   "outputs": [],
   "source": [
    "graph = domestic_profit.head(40)"
   ]
  },
  {
   "cell_type": "code",
   "execution_count": 67,
   "id": "cdccc05f",
   "metadata": {},
   "outputs": [
    {
     "data": {
      "image/png": "[encoded data removed]",
      "text/plain": [
       "<Figure size 2160x1440 with 1 Axes>"
      ]
     },
     "metadata": {},
     "output_type": "display_data"
    }
   ],
   "source": [
    "plt.subplots(figsize=(30,20))\n",
    "plt.title('Profit/Loss Analysis')\n",
    "sns.set(font_scale=2)\n",
    "sns.barplot(x='movie', \n",
    "            y='domestic_profit', \n",
    "            data=graph, \n",
    "           ).set(xticklabels=[], ylabel='Profit');"
   ]
  },
  {
   "cell_type": "code",
   "execution_count": null,
   "id": "5cca9d45",
   "metadata": {},
   "outputs": [],
   "source": []
  }
 ],
 "metadata": {
  "kernelspec": {
   "display_name": "Python 3",
   "language": "python",
   "name": "python3"
  },
  "language_info": {
   "codemirror_mode": {
    "name": "ipython",
    "version": 3
   },
   "file_extension": ".py",
   "mimetype": "text/x-python",
   "name": "python",
   "nbconvert_exporter": "python",
   "pygments_lexer": "ipython3",
   "version": "3.8.8"
  }
 },
 "nbformat": 4,
 "nbformat_minor": 5
}
