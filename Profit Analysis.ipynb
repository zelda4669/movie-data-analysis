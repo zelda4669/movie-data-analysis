{
 "cells": [
  {
   "cell_type": "markdown",
   "id": "5398ba94",
   "metadata": {},
   "source": [
    "# Profit Analysis"
   ]
  },
  {
   "cell_type": "markdown",
   "id": "da5a02ce",
   "metadata": {},
   "source": [
    "## Overview"
   ]
  },
  {
   "cell_type": "markdown",
   "id": "1ec05752",
   "metadata": {},
   "source": [
    "This project analyzes box office and streaming data to provide strategic direction for a newly formed movie division. Our analysis explores financial data, film ratings, and viewership data to help guide the division in deciding what types of movies to create."
   ]
  },
  {
   "cell_type": "markdown",
   "id": "85fbdb5e",
   "metadata": {},
   "source": [
    "## Business Problem"
   ]
  },
  {
   "cell_type": "markdown",
   "id": "719f0900",
   "metadata": {},
   "source": [
    "Microsoft is interested in entering the content creation space, and we need to use data insights to help them figure out how to launch their studio."
   ]
  },
  {
   "cell_type": "markdown",
   "id": "80a0a17c",
   "metadata": {},
   "source": [
    "## Notebook Overview"
   ]
  },
  {
   "cell_type": "markdown",
   "id": "52a0868e",
   "metadata": {},
   "source": [
    "Critical for any new business venture is to add value as quickly as possible. I have analyzed recent movie budgets compared to their domestic and global gross to help identify patterns."
   ]
  },
  {
   "cell_type": "code",
   "execution_count": null,
   "id": "652f829b",
   "metadata": {},
   "outputs": [],
   "source": [
    "#import necessary libraries\n",
    "import pandas as pd\n",
    "import numpy as np\n",
    "import seaborn as sns\n",
    "import matplotlib.pyplot as plt\n",
    "%matplotlib inline\n",
    "\n",
    "#import datasets\n",
    "domestic_profit = pd.read_csv('data/Edited Data/Domestic Profits.csv')\n",
    "worldwide_profit = pd.read_csv('data/Edited Data/Worldwide Profits.csv')\n",
    "movie_details = pd.read_csv('data/Provided Data/tmdb.movies.csv', index_col = 0, converters={'genre_ids': eval})\n",
    "genres = pd.read_csv('data/edited data/tmdb genres.csv')"
   ]
  },
  {
   "cell_type": "code",
   "execution_count": 114,
   "id": "ff536762",
   "metadata": {},
   "outputs": [
    {
     "data": {
      "text/html": [
       "<div>\n",
       "<style scoped>\n",
       "    .dataframe tbody tr th:only-of-type {\n",
       "        vertical-align: middle;\n",
       "    }\n",
       "\n",
       "    .dataframe tbody tr th {\n",
       "        vertical-align: top;\n",
       "    }\n",
       "\n",
       "    .dataframe thead th {\n",
       "        text-align: right;\n",
       "    }\n",
       "</style>\n",
       "<table border=\"1\" class=\"dataframe\">\n",
       "  <thead>\n",
       "    <tr style=\"text-align: right;\">\n",
       "      <th></th>\n",
       "      <th>release_date</th>\n",
       "      <th>movie</th>\n",
       "      <th>production_budget</th>\n",
       "      <th>domestic_gross</th>\n",
       "      <th>domestic_profit</th>\n",
       "      <th>domestic_ROI</th>\n",
       "      <th>Year</th>\n",
       "    </tr>\n",
       "  </thead>\n",
       "  <tbody>\n",
       "    <tr>\n",
       "      <th>0</th>\n",
       "      <td>5/20/2011</td>\n",
       "      <td>Pirates of the Caribbean: On Stranger Tides</td>\n",
       "      <td>410600000</td>\n",
       "      <td>241063875</td>\n",
       "      <td>-169536125</td>\n",
       "      <td>-41.289850</td>\n",
       "      <td>2011</td>\n",
       "    </tr>\n",
       "    <tr>\n",
       "      <th>1</th>\n",
       "      <td>6/7/2019</td>\n",
       "      <td>Dark Phoenix</td>\n",
       "      <td>350000000</td>\n",
       "      <td>42762350</td>\n",
       "      <td>-307237650</td>\n",
       "      <td>-87.782186</td>\n",
       "      <td>2019</td>\n",
       "    </tr>\n",
       "    <tr>\n",
       "      <th>2</th>\n",
       "      <td>5/1/2015</td>\n",
       "      <td>Avengers: Age of Ultron</td>\n",
       "      <td>330600000</td>\n",
       "      <td>459005868</td>\n",
       "      <td>128405868</td>\n",
       "      <td>38.840250</td>\n",
       "      <td>2015</td>\n",
       "    </tr>\n",
       "    <tr>\n",
       "      <th>3</th>\n",
       "      <td>12/15/2017</td>\n",
       "      <td>Star Wars Ep. VIII: The Last Jedi</td>\n",
       "      <td>317000000</td>\n",
       "      <td>620181382</td>\n",
       "      <td>303181382</td>\n",
       "      <td>95.640815</td>\n",
       "      <td>2017</td>\n",
       "    </tr>\n",
       "    <tr>\n",
       "      <th>4</th>\n",
       "      <td>12/18/2015</td>\n",
       "      <td>Star Wars Ep. VII: The Force Awakens</td>\n",
       "      <td>306000000</td>\n",
       "      <td>936662225</td>\n",
       "      <td>630662225</td>\n",
       "      <td>206.098766</td>\n",
       "      <td>2015</td>\n",
       "    </tr>\n",
       "  </tbody>\n",
       "</table>\n",
       "</div>"
      ],
      "text/plain": [
       "  release_date                                        movie  \\\n",
       "0    5/20/2011  Pirates of the Caribbean: On Stranger Tides   \n",
       "1     6/7/2019                                 Dark Phoenix   \n",
       "2     5/1/2015                      Avengers: Age of Ultron   \n",
       "3   12/15/2017            Star Wars Ep. VIII: The Last Jedi   \n",
       "4   12/18/2015         Star Wars Ep. VII: The Force Awakens   \n",
       "\n",
       "   production_budget  domestic_gross  domestic_profit  domestic_ROI  Year  \n",
       "0          410600000       241063875       -169536125    -41.289850  2011  \n",
       "1          350000000        42762350       -307237650    -87.782186  2019  \n",
       "2          330600000       459005868        128405868     38.840250  2015  \n",
       "3          317000000       620181382        303181382     95.640815  2017  \n",
       "4          306000000       936662225        630662225    206.098766  2015  "
      ]
     },
     "execution_count": 114,
     "metadata": {},
     "output_type": "execute_result"
    }
   ],
   "source": [
    "domestic_profit.head()"
   ]
  },
  {
   "cell_type": "code",
   "execution_count": 115,
   "id": "3ece7cea",
   "metadata": {},
   "outputs": [
    {
     "data": {
      "text/html": [
       "<div>\n",
       "<style scoped>\n",
       "    .dataframe tbody tr th:only-of-type {\n",
       "        vertical-align: middle;\n",
       "    }\n",
       "\n",
       "    .dataframe tbody tr th {\n",
       "        vertical-align: top;\n",
       "    }\n",
       "\n",
       "    .dataframe thead th {\n",
       "        text-align: right;\n",
       "    }\n",
       "</style>\n",
       "<table border=\"1\" class=\"dataframe\">\n",
       "  <thead>\n",
       "    <tr style=\"text-align: right;\">\n",
       "      <th></th>\n",
       "      <th>production_budget</th>\n",
       "      <th>domestic_gross</th>\n",
       "      <th>domestic_profit</th>\n",
       "      <th>domestic_ROI</th>\n",
       "      <th>Year</th>\n",
       "    </tr>\n",
       "  </thead>\n",
       "  <tbody>\n",
       "    <tr>\n",
       "      <th>count</th>\n",
       "      <td>2.194000e+03</td>\n",
       "      <td>2.194000e+03</td>\n",
       "      <td>2.194000e+03</td>\n",
       "      <td>2194.000000</td>\n",
       "      <td>2194.000000</td>\n",
       "    </tr>\n",
       "    <tr>\n",
       "      <th>mean</th>\n",
       "      <td>3.640526e+07</td>\n",
       "      <td>4.412024e+07</td>\n",
       "      <td>7.714979e+06</td>\n",
       "      <td>62.386500</td>\n",
       "      <td>2013.829535</td>\n",
       "    </tr>\n",
       "    <tr>\n",
       "      <th>std</th>\n",
       "      <td>5.149456e+07</td>\n",
       "      <td>7.979328e+07</td>\n",
       "      <td>5.464571e+07</td>\n",
       "      <td>614.768943</td>\n",
       "      <td>2.569796</td>\n",
       "    </tr>\n",
       "    <tr>\n",
       "      <th>min</th>\n",
       "      <td>1.400000e+03</td>\n",
       "      <td>0.000000e+00</td>\n",
       "      <td>-3.072376e+08</td>\n",
       "      <td>-100.000000</td>\n",
       "      <td>2010.000000</td>\n",
       "    </tr>\n",
       "    <tr>\n",
       "      <th>25%</th>\n",
       "      <td>4.400000e+06</td>\n",
       "      <td>9.762050e+04</td>\n",
       "      <td>-1.022759e+07</td>\n",
       "      <td>-97.950908</td>\n",
       "      <td>2012.000000</td>\n",
       "    </tr>\n",
       "    <tr>\n",
       "      <th>50%</th>\n",
       "      <td>1.600000e+07</td>\n",
       "      <td>1.279090e+07</td>\n",
       "      <td>-1.184654e+06</td>\n",
       "      <td>-38.399667</td>\n",
       "      <td>2014.000000</td>\n",
       "    </tr>\n",
       "    <tr>\n",
       "      <th>75%</th>\n",
       "      <td>4.200000e+07</td>\n",
       "      <td>5.332470e+07</td>\n",
       "      <td>1.284175e+07</td>\n",
       "      <td>58.714019</td>\n",
       "      <td>2016.000000</td>\n",
       "    </tr>\n",
       "    <tr>\n",
       "      <th>max</th>\n",
       "      <td>4.106000e+08</td>\n",
       "      <td>9.366622e+08</td>\n",
       "      <td>6.306622e+08</td>\n",
       "      <td>22664.410000</td>\n",
       "      <td>2019.000000</td>\n",
       "    </tr>\n",
       "  </tbody>\n",
       "</table>\n",
       "</div>"
      ],
      "text/plain": [
       "       production_budget  domestic_gross  domestic_profit  domestic_ROI  \\\n",
       "count       2.194000e+03    2.194000e+03     2.194000e+03   2194.000000   \n",
       "mean        3.640526e+07    4.412024e+07     7.714979e+06     62.386500   \n",
       "std         5.149456e+07    7.979328e+07     5.464571e+07    614.768943   \n",
       "min         1.400000e+03    0.000000e+00    -3.072376e+08   -100.000000   \n",
       "25%         4.400000e+06    9.762050e+04    -1.022759e+07    -97.950908   \n",
       "50%         1.600000e+07    1.279090e+07    -1.184654e+06    -38.399667   \n",
       "75%         4.200000e+07    5.332470e+07     1.284175e+07     58.714019   \n",
       "max         4.106000e+08    9.366622e+08     6.306622e+08  22664.410000   \n",
       "\n",
       "              Year  \n",
       "count  2194.000000  \n",
       "mean   2013.829535  \n",
       "std       2.569796  \n",
       "min    2010.000000  \n",
       "25%    2012.000000  \n",
       "50%    2014.000000  \n",
       "75%    2016.000000  \n",
       "max    2019.000000  "
      ]
     },
     "execution_count": 115,
     "metadata": {},
     "output_type": "execute_result"
    }
   ],
   "source": [
    "domestic_profit.describe()"
   ]
  },
  {
   "cell_type": "markdown",
   "id": "a50c11e1",
   "metadata": {},
   "source": [
    "A quick look at the summary statistics for this data shows that the median \"profit\" for movies is a loss nearly $1.2 million. This highlights the importance of proceeding thoughtfully--it is just as easy to lose money as it is to make money! Let's take a look at the movies with the highest ROI to see if there are any similarities."
   ]
  },
  {
   "cell_type": "code",
   "execution_count": 3,
   "id": "7f90d8ee",
   "metadata": {},
   "outputs": [],
   "source": [
    "ROI = domestic_profit.sort_values(by='domestic_ROI', ascending=False).head(50)"
   ]
  },
  {
   "cell_type": "code",
   "execution_count": 117,
   "id": "fa68b744",
   "metadata": {},
   "outputs": [
    {
     "data": {
      "text/html": [
       "<div>\n",
       "<style scoped>\n",
       "    .dataframe tbody tr th:only-of-type {\n",
       "        vertical-align: middle;\n",
       "    }\n",
       "\n",
       "    .dataframe tbody tr th {\n",
       "        vertical-align: top;\n",
       "    }\n",
       "\n",
       "    .dataframe thead th {\n",
       "        text-align: right;\n",
       "    }\n",
       "</style>\n",
       "<table border=\"1\" class=\"dataframe\">\n",
       "  <thead>\n",
       "    <tr style=\"text-align: right;\">\n",
       "      <th></th>\n",
       "      <th>production_budget</th>\n",
       "      <th>domestic_gross</th>\n",
       "      <th>domestic_profit</th>\n",
       "      <th>domestic_ROI</th>\n",
       "      <th>Year</th>\n",
       "    </tr>\n",
       "  </thead>\n",
       "  <tbody>\n",
       "    <tr>\n",
       "      <th>count</th>\n",
       "      <td>5.000000e+01</td>\n",
       "      <td>5.000000e+01</td>\n",
       "      <td>5.000000e+01</td>\n",
       "      <td>50.000000</td>\n",
       "      <td>50.000000</td>\n",
       "    </tr>\n",
       "    <tr>\n",
       "      <th>mean</th>\n",
       "      <td>4.286600e+06</td>\n",
       "      <td>6.151614e+07</td>\n",
       "      <td>5.722954e+07</td>\n",
       "      <td>2285.482842</td>\n",
       "      <td>2014.000000</td>\n",
       "    </tr>\n",
       "    <tr>\n",
       "      <th>std</th>\n",
       "      <td>5.818688e+06</td>\n",
       "      <td>6.066400e+07</td>\n",
       "      <td>5.544766e+07</td>\n",
       "      <td>3279.096953</td>\n",
       "      <td>2.490799</td>\n",
       "    </tr>\n",
       "    <tr>\n",
       "      <th>min</th>\n",
       "      <td>1.000000e+05</td>\n",
       "      <td>1.594798e+06</td>\n",
       "      <td>1.477486e+06</td>\n",
       "      <td>792.178750</td>\n",
       "      <td>2010.000000</td>\n",
       "    </tr>\n",
       "    <tr>\n",
       "      <th>25%</th>\n",
       "      <td>1.000000e+06</td>\n",
       "      <td>1.821323e+07</td>\n",
       "      <td>1.721323e+07</td>\n",
       "      <td>1085.530150</td>\n",
       "      <td>2012.000000</td>\n",
       "    </tr>\n",
       "    <tr>\n",
       "      <th>50%</th>\n",
       "      <td>2.750000e+06</td>\n",
       "      <td>4.947146e+07</td>\n",
       "      <td>4.547146e+07</td>\n",
       "      <td>1482.908075</td>\n",
       "      <td>2014.000000</td>\n",
       "    </tr>\n",
       "    <tr>\n",
       "      <th>75%</th>\n",
       "      <td>5.000000e+06</td>\n",
       "      <td>8.356042e+07</td>\n",
       "      <td>7.745095e+07</td>\n",
       "      <td>2031.971910</td>\n",
       "      <td>2016.000000</td>\n",
       "    </tr>\n",
       "    <tr>\n",
       "      <th>max</th>\n",
       "      <td>3.500000e+07</td>\n",
       "      <td>3.274817e+08</td>\n",
       "      <td>2.924817e+08</td>\n",
       "      <td>22664.410000</td>\n",
       "      <td>2018.000000</td>\n",
       "    </tr>\n",
       "  </tbody>\n",
       "</table>\n",
       "</div>"
      ],
      "text/plain": [
       "       production_budget  domestic_gross  domestic_profit  domestic_ROI  \\\n",
       "count       5.000000e+01    5.000000e+01     5.000000e+01     50.000000   \n",
       "mean        4.286600e+06    6.151614e+07     5.722954e+07   2285.482842   \n",
       "std         5.818688e+06    6.066400e+07     5.544766e+07   3279.096953   \n",
       "min         1.000000e+05    1.594798e+06     1.477486e+06    792.178750   \n",
       "25%         1.000000e+06    1.821323e+07     1.721323e+07   1085.530150   \n",
       "50%         2.750000e+06    4.947146e+07     4.547146e+07   1482.908075   \n",
       "75%         5.000000e+06    8.356042e+07     7.745095e+07   2031.971910   \n",
       "max         3.500000e+07    3.274817e+08     2.924817e+08  22664.410000   \n",
       "\n",
       "              Year  \n",
       "count    50.000000  \n",
       "mean   2014.000000  \n",
       "std       2.490799  \n",
       "min    2010.000000  \n",
       "25%    2012.000000  \n",
       "50%    2014.000000  \n",
       "75%    2016.000000  \n",
       "max    2018.000000  "
      ]
     },
     "execution_count": 117,
     "metadata": {},
     "output_type": "execute_result"
    }
   ],
   "source": [
    "ROI.describe()"
   ]
  },
  {
   "cell_type": "markdown",
   "id": "232ec3d0",
   "metadata": {},
   "source": [
    "The films with the highest ROI have a mean budget of \\\\$4.3 million (significantly less than the mean of \\\\$36 million for the entire dataset!) and a median budget of \\\\$2.8 million (compared to a median budget of \\\\$16 million for the entire dataset!), indicating that modest budgets provide a greater return then big budget movies."
   ]
  },
  {
   "cell_type": "code",
   "execution_count": 33,
   "id": "677fb432",
   "metadata": {},
   "outputs": [
    {
     "data": {
      "image/png": "[encoded data removed]",
      "text/plain": [
       "<Figure size 864x720 with 1 Axes>"
      ]
     },
     "metadata": {},
     "output_type": "display_data"
    }
   ],
   "source": [
    "fig = plt.figure(figsize=(12,10))\n",
    "plt.title('Return on Investment by Budget Amount')\n",
    "plt.xlabel('Budget (1 = 100 million)')\n",
    "plt.ylabel('ROI (Percentage)')\n",
    "plt.ylim(-200, 1600)\n",
    "plt.xlim(-10000000, 280000000)\n",
    "sns.set_style('darkgrid')\n",
    "sns.scatterplot(data=domestic_profit, x='production_budget', y='domestic_ROI');"
   ]
  },
  {
   "cell_type": "markdown",
   "id": "71080c9d",
   "metadata": {},
   "source": [
    "Graphing all of our movie budgets gives us a similar picture! For movies with budgets over \\\\$100 million, ROI caps out around 250\\%, but for movies with budgets less than \\\\$500,000, there is greater potential to make a larger return.\n",
    "\n",
    "Let's look at the movies with the highest rate of return to see if we can find any similarities between them."
   ]
  },
  {
   "cell_type": "code",
   "execution_count": 4,
   "id": "674595b7",
   "metadata": {},
   "outputs": [],
   "source": [
    "top_roi_details = ROI.merge(movie_details, how='inner', left_on='movie', right_on='title')\n",
    "top_roi_details.drop_duplicates(subset=['movie'], inplace=True)"
   ]
  },
  {
   "cell_type": "code",
   "execution_count": 11,
   "id": "31deee92",
   "metadata": {},
   "outputs": [],
   "source": [
    "#define a function that counts the frequency of genres in the genre_id column\n",
    "def genre_count(series):\n",
    "    g = []\n",
    "    genres = {}\n",
    "    for i in series:\n",
    "        g.extend(i)\n",
    "    x = list(set(g))\n",
    "    for i in x:\n",
    "        genres[i] = 0\n",
    "    for i in g:\n",
    "        genres[i] += 1\n",
    "    df = pd.DataFrame.from_dict(genres, orient='index')\n",
    "    df.sort_values(by=0, inplace=True, ascending=False)\n",
    "    return df"
   ]
  },
  {
   "cell_type": "code",
   "execution_count": 15,
   "id": "2c3e39d5",
   "metadata": {},
   "outputs": [
    {
     "data": {
      "image/png": "[encoded data removed]",
      "text/plain": [
       "<Figure size 1080x576 with 1 Axes>"
      ]
     },
     "metadata": {},
     "output_type": "display_data"
    }
   ],
   "source": [
    "chart = genre_count(top_roi_details['genre_ids'])\n",
    "chart = chart.merge(genres, left_index=True, right_on='id')\n",
    "fig = plt.figure(figsize=(15,8))\n",
    "plt.title('Genres With Best ROI')\n",
    "sns.barplot(data=chart, y=0, x='name', palette = 'Purples_r');"
   ]
  },
  {
   "cell_type": "markdown",
   "id": "5d29af71",
   "metadata": {},
   "source": [
    "## Conclusions"
   ]
  },
  {
   "cell_type": "markdown",
   "id": "1191fd7c",
   "metadata": {},
   "source": [
    "Based on this data, my recommendations for Microsoft are:\n",
    "\n",
    "- **Big budget does not equal big returns**. Movies with a budget less than $500,000 are where you are able to get a really high rate of return."
   ]
  },
  {
   "cell_type": "markdown",
   "id": "dce4a005",
   "metadata": {},
   "source": [
    "## Next Steps"
   ]
  },
  {
   "cell_type": "markdown",
   "id": "32956c53",
   "metadata": {},
   "source": [
    "Further insi"
   ]
  }
 ],
 "metadata": {
  "kernelspec": {
   "display_name": "Python 3",
   "language": "python",
   "name": "python3"
  },
  "language_info": {
   "codemirror_mode": {
    "name": "ipython",
    "version": 3
   },
   "file_extension": ".py",
   "mimetype": "text/x-python",
   "name": "python",
   "nbconvert_exporter": "python",
   "pygments_lexer": "ipython3",
   "version": "3.8.8"
  }
 },
 "nbformat": 4,
 "nbformat_minor": 5
}
