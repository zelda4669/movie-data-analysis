{
 "cells": [
  {
   "cell_type": "markdown",
   "id": "883d5428",
   "metadata": {},
   "source": [
    "# Netflix Top Ten"
   ]
  },
  {
   "cell_type": "markdown",
   "id": "8d4c36ce",
   "metadata": {},
   "source": [
    "## Overview"
   ]
  },
  {
   "cell_type": "markdown",
   "id": "8bad2754",
   "metadata": {},
   "source": [
    "This project analyzes box office and streaming data to provide strategic direction for a newly formed movie division. Our analysis explores financial data, film ratings, and viewership data to help guide the division in deciding what types of movies to create."
   ]
  },
  {
   "cell_type": "markdown",
   "id": "1466b97c",
   "metadata": {},
   "source": [
    "## Business Problem"
   ]
  },
  {
   "cell_type": "markdown",
   "id": "509ef2fb",
   "metadata": {},
   "source": [
    "Microsoft is interested in entering the content creation space, and we need to use data insights to help them figure out how to launch their studio."
   ]
  },
  {
   "cell_type": "markdown",
   "id": "5ec2bcd3",
   "metadata": {},
   "source": [
    "## Notebook Overview"
   ]
  },
  {
   "cell_type": "markdown",
   "id": "5b54deba",
   "metadata": {},
   "source": [
    "Other analyses in this repository focus on box office data. However, due to the COVID-19 pandemic, this analysis does not take into account most recent trends in viewership. Because we cannot accurately rely on box office data for 2020 and 2021, we will need to instead look for data from a different source--streaming. Most streaming services do not release comprehensive ratings for their programming, but we can use data gathered from Netflix's \"Top Ten\" feature to get a glimpse into the most recent viewership trends.\n",
    "Netflix Top Ten data was collected from the-numbers.com and aggregates all titles that have appeared in the Netflix Top Ten from January 1st to May 31st 2021. Additional details about these titles was collected from TMDB."
   ]
  },
  {
   "cell_type": "code",
   "execution_count": 1,
   "id": "5537c78b",
   "metadata": {},
   "outputs": [],
   "source": [
    "#import necessary libraries\n",
    "import pandas as pd\n",
    "import numpy as np\n",
    "import seaborn as sns\n",
    "import matplotlib.pyplot as plt\n",
    "%matplotlib inline\n",
    "\n",
    "#import dataset\n",
    "df = pd.read_csv('data/Edited Data/Netflix Top Ten with Info.csv', converters={'genre_ids': eval})\n",
    "genres = pd.read_csv('data/edited data/tmdb genres.csv')"
   ]
  },
  {
   "cell_type": "code",
   "execution_count": 4,
   "id": "625d08c5",
   "metadata": {},
   "outputs": [],
   "source": [
    "#prepare table for plotting\n",
    "#assemble only columns relevant to the visualization\n",
    "movie_genres = df.loc[:, ['Title', 'genre_ids', 'Viewership Score']]\n",
    "\n",
    "#expand list of genre ids\n",
    "movie_genres = movie_genres.explode('genre_ids')\n",
    "\n",
    "#merge in genre names\n",
    "graph = movie_genres.merge(genres, left_on='genre_ids', right_on='id')"
   ]
  },
  {
   "cell_type": "markdown",
   "id": "9ba107aa",
   "metadata": {},
   "source": [
    "## Plotting Genres"
   ]
  },
  {
   "cell_type": "code",
   "execution_count": 7,
   "id": "41f01431",
   "metadata": {},
   "outputs": [
    {
     "data": {
      "image/png": "[encoded data removed]",
      "text/plain": [
       "<Figure size 864x720 with 1 Axes>"
      ]
     },
     "metadata": {
      "needs_background": "light"
     },
     "output_type": "display_data"
    }
   ],
   "source": [
    "#create plot\n",
    "fig = plt.figure(figsize=(12,10))\n",
    "plt.title('Genres of Netflix Top Ten Titles')\n",
    "plt.xlabel('Count')\n",
    "plt.ylabel('Genres')\n",
    "sns.countplot(data=graph, y='name', order = graph['name'].value_counts().index);"
   ]
  },
  {
   "cell_type": "markdown",
   "id": "9ffcc801",
   "metadata": {},
   "source": [
    "We can see from this graph that dramas are the most popular genre, followed by comedy and thriller. Let's examine these genres to see if we can find some commonalities."
   ]
  },
  {
   "cell_type": "markdown",
   "id": "d5998034",
   "metadata": {},
   "source": [
    "## Dramas"
   ]
  },
  {
   "cell_type": "code",
   "execution_count": 13,
   "id": "b418a465",
   "metadata": {},
   "outputs": [
    {
     "data": {
      "text/html": [
       "<div>\n",
       "<style scoped>\n",
       "    .dataframe tbody tr th:only-of-type {\n",
       "        vertical-align: middle;\n",
       "    }\n",
       "\n",
       "    .dataframe tbody tr th {\n",
       "        vertical-align: top;\n",
       "    }\n",
       "\n",
       "    .dataframe thead th {\n",
       "        text-align: right;\n",
       "    }\n",
       "</style>\n",
       "<table border=\"1\" class=\"dataframe\">\n",
       "  <thead>\n",
       "    <tr style=\"text-align: right;\">\n",
       "      <th></th>\n",
       "      <th>Title</th>\n",
       "      <th>Viewership Score_x</th>\n",
       "      <th>genre_ids_y</th>\n",
       "      <th>original_language</th>\n",
       "      <th>overview</th>\n",
       "      <th>popularity</th>\n",
       "      <th>vote_average</th>\n",
       "      <th>vote_count</th>\n",
       "      <th>release_date</th>\n",
       "      <th>Netflix Release Date</th>\n",
       "      <th>Days in Top Ten</th>\n",
       "    </tr>\n",
       "  </thead>\n",
       "  <tbody>\n",
       "    <tr>\n",
       "      <th>0</th>\n",
       "      <td>Deadly Illusions</td>\n",
       "      <td>82</td>\n",
       "      <td>[18, 53]</td>\n",
       "      <td>en</td>\n",
       "      <td>A bestselling female novelist, suffering from ...</td>\n",
       "      <td>44.376</td>\n",
       "      <td>5.0</td>\n",
       "      <td>186</td>\n",
       "      <td>2021-03-18</td>\n",
       "      <td>18-Mar-21</td>\n",
       "      <td>10</td>\n",
       "    </tr>\n",
       "    <tr>\n",
       "      <th>1</th>\n",
       "      <td>The Midnight Sky</td>\n",
       "      <td>82</td>\n",
       "      <td>[878, 18]</td>\n",
       "      <td>en</td>\n",
       "      <td>A lone scientist in the Arctic races to contac...</td>\n",
       "      <td>19.593</td>\n",
       "      <td>5.9</td>\n",
       "      <td>1269</td>\n",
       "      <td>2020-12-10</td>\n",
       "      <td>23-Dec-20</td>\n",
       "      <td>10</td>\n",
       "    </tr>\n",
       "    <tr>\n",
       "      <th>2</th>\n",
       "      <td>Stowaway</td>\n",
       "      <td>70</td>\n",
       "      <td>[18, 878, 53]</td>\n",
       "      <td>en</td>\n",
       "      <td>A three-person crew on a mission to Mars faces...</td>\n",
       "      <td>135.837</td>\n",
       "      <td>6.1</td>\n",
       "      <td>576</td>\n",
       "      <td>2021-04-22</td>\n",
       "      <td>22-Apr-21</td>\n",
       "      <td>9</td>\n",
       "    </tr>\n",
       "    <tr>\n",
       "      <th>3</th>\n",
       "      <td>Synchronic</td>\n",
       "      <td>64</td>\n",
       "      <td>[878, 18, 53, 27]</td>\n",
       "      <td>en</td>\n",
       "      <td>Two New Orleans paramedics' lives are ripped a...</td>\n",
       "      <td>17.374</td>\n",
       "      <td>6.4</td>\n",
       "      <td>263</td>\n",
       "      <td>2020-10-23</td>\n",
       "      <td>16-Apr-21</td>\n",
       "      <td>9</td>\n",
       "    </tr>\n",
       "    <tr>\n",
       "      <th>4</th>\n",
       "      <td>Concrete Cowboy</td>\n",
       "      <td>60</td>\n",
       "      <td>[18, 37]</td>\n",
       "      <td>en</td>\n",
       "      <td>Sent to live with his estranged father for the...</td>\n",
       "      <td>34.491</td>\n",
       "      <td>6.2</td>\n",
       "      <td>83</td>\n",
       "      <td>2020-09-10</td>\n",
       "      <td>2-Apr-21</td>\n",
       "      <td>10</td>\n",
       "    </tr>\n",
       "  </tbody>\n",
       "</table>\n",
       "</div>"
      ],
      "text/plain": [
       "              Title  Viewership Score_x        genre_ids_y original_language  \\\n",
       "0  Deadly Illusions                  82           [18, 53]                en   \n",
       "1  The Midnight Sky                  82          [878, 18]                en   \n",
       "2          Stowaway                  70      [18, 878, 53]                en   \n",
       "3        Synchronic                  64  [878, 18, 53, 27]                en   \n",
       "4   Concrete Cowboy                  60           [18, 37]                en   \n",
       "\n",
       "                                            overview  popularity  \\\n",
       "0  A bestselling female novelist, suffering from ...      44.376   \n",
       "1  A lone scientist in the Arctic races to contac...      19.593   \n",
       "2  A three-person crew on a mission to Mars faces...     135.837   \n",
       "3  Two New Orleans paramedics' lives are ripped a...      17.374   \n",
       "4  Sent to live with his estranged father for the...      34.491   \n",
       "\n",
       "   vote_average  vote_count release_date Netflix Release Date  Days in Top Ten  \n",
       "0           5.0         186   2021-03-18            18-Mar-21               10  \n",
       "1           5.9        1269   2020-12-10            23-Dec-20               10  \n",
       "2           6.1         576   2021-04-22            22-Apr-21                9  \n",
       "3           6.4         263   2020-10-23            16-Apr-21                9  \n",
       "4           6.2          83   2020-09-10             2-Apr-21               10  "
      ]
     },
     "execution_count": 13,
     "metadata": {},
     "output_type": "execute_result"
    }
   ],
   "source": [
    "dramas = movie_genres.loc[movie_genres['genre_ids'] == 18]\n",
    "drama_details = dramas.merge(df, on='Title')\n",
    "drama_details.drop(columns=['genre_ids_x', 'Viewership Score_y', 'id', 'Type', 'title'], inplace=True)\n",
    "drama_details.head()"
   ]
  },
  {
   "cell_type": "code",
   "execution_count": 14,
   "id": "93f6300a",
   "metadata": {},
   "outputs": [
    {
     "name": "stdout",
     "output_type": "stream",
     "text": [
      "A bestselling female novelist, suffering from writer's block, hires an innocent young woman to watch over her twin children. As the novelist dangerously indulges in her new best seller, the line between the life she's writing and the one she's living becomes blurred.\n",
      "\n",
      "\n",
      "A lone scientist in the Arctic races to contact a crew of astronauts returning home to a mysterious global catastrophe.\n",
      "\n",
      "\n",
      "A three-person crew on a mission to Mars faces an impossible choice when an unplanned passenger jeopardizes the lives of everyone on board.\n",
      "\n",
      "\n",
      "Two New Orleans paramedics' lives are ripped apart after encountering a series of horrific deaths linked to a designer drug with bizarre, otherworldly effects.\n",
      "\n",
      "\n",
      "Sent to live with his estranged father for the summer, a rebellious teen finds kinship in a tight-knit Philadelphia community of Black cowboys.\n",
      "\n",
      "\n",
      "Pot growers Ben and Chon face off against the Mexican drug cartel who kidnapped their shared girlfriend.\n",
      "\n",
      "\n",
      "A married couple's life is turned upside down when the wife is accused of murdering her boss. Her husband John would spend the next few years trying to get her released, but there's no evidence that negates the evidence against her. When the strain of being separated from her husband and son gets to her, John decides to find a way to break her out.\n",
      "\n",
      "\n",
      "As WWII looms, a wealthy widow hires an amateur archaeologist to excavate the burial mounds on her estate. When they make a historic discovery, the echoes of Britain's past resonate in the face of its uncertain future‎.\n",
      "\n",
      "\n",
      "Based on the true story of two young men, David Packouz and Efraim Diveroli, who won a $300 million contract from the Pentagon to arm America's allies in Afghanistan.\n",
      "\n",
      "\n",
      "Catherine Clare reluctantly trades life in 1980 Manhattan for a remote home in the tiny hamlet of Chosen, New York, after her husband George lands a job teaching art history at a small Hudson Valley college. Even as she does her best to transform the old dairy farm into a place where young daughter Franny will be happy, Catherine increasingly finds herself isolated and alone. She soon comes to sense a sinister darkness lurking both in the walls of the ramshackle property—and in her marriage to George.\n",
      "\n",
      "\n"
     ]
    }
   ],
   "source": [
    "#print synopsis for the first ten titles in the dataframe\n",
    "for i in list(drama_details['overview'][:10]):\n",
    "    print(i)\n",
    "    print('\\n')"
   ]
  },
  {
   "cell_type": "markdown",
   "id": "13e60527",
   "metadata": {},
   "source": [
    "Briefly examining the synopses for the ten most popular dramas, isolation is a recurring theme. That makes a lot of sense when you consider the isolation we have all been dealing with during the pandemic — but because this theme is so tied to current events, this could also indicate that as pandemic restrictions continue to ease, these stories about isolation will become less popular. We can examine the genre_ids column to see what genres occur most frequently in conjunction with drama."
   ]
  },
  {
   "cell_type": "code",
   "execution_count": 15,
   "id": "e2123db8",
   "metadata": {},
   "outputs": [],
   "source": [
    "#define a function that counts the frequency of genres in the genre_id column\n",
    "def genre_count(series):\n",
    "    g = []\n",
    "    genres = {}\n",
    "    for i in series:\n",
    "        g.extend(i)\n",
    "    x = list(set(g))\n",
    "    for i in x:\n",
    "        genres[i] = 0\n",
    "    for i in g:\n",
    "        genres[i] += 1\n",
    "    return genres"
   ]
  },
  {
   "cell_type": "code",
   "execution_count": 16,
   "id": "021505fd",
   "metadata": {},
   "outputs": [
    {
     "data": {
      "image/png": "[encoded data removed]",
      "text/plain": [
       "<Figure size 576x576 with 1 Axes>"
      ]
     },
     "metadata": {},
     "output_type": "display_data"
    }
   ],
   "source": [
    "drama_chart = genre_count(drama_details['genre_ids_y'])\n",
    "drama_chart.pop(18)\n",
    "fig = plt.figure(figsize=(8,8))\n",
    "plt.pie(drama_chart.values(), labels = drama_chart.keys());"
   ]
  },
  {
   "cell_type": "code",
   "execution_count": 17,
   "id": "d2d66f08",
   "metadata": {},
   "outputs": [
    {
     "data": {
      "text/html": [
       "<div>\n",
       "<style scoped>\n",
       "    .dataframe tbody tr th:only-of-type {\n",
       "        vertical-align: middle;\n",
       "    }\n",
       "\n",
       "    .dataframe tbody tr th {\n",
       "        vertical-align: top;\n",
       "    }\n",
       "\n",
       "    .dataframe thead th {\n",
       "        text-align: right;\n",
       "    }\n",
       "</style>\n",
       "<table border=\"1\" class=\"dataframe\">\n",
       "  <thead>\n",
       "    <tr style=\"text-align: right;\">\n",
       "      <th></th>\n",
       "      <th>id</th>\n",
       "      <th>name</th>\n",
       "    </tr>\n",
       "  </thead>\n",
       "  <tbody>\n",
       "    <tr>\n",
       "      <th>0</th>\n",
       "      <td>28</td>\n",
       "      <td>Action</td>\n",
       "    </tr>\n",
       "    <tr>\n",
       "      <th>4</th>\n",
       "      <td>80</td>\n",
       "      <td>Crime</td>\n",
       "    </tr>\n",
       "    <tr>\n",
       "      <th>16</th>\n",
       "      <td>53</td>\n",
       "      <td>Thriller</td>\n",
       "    </tr>\n",
       "  </tbody>\n",
       "</table>\n",
       "</div>"
      ],
      "text/plain": [
       "    id      name\n",
       "0   28    Action\n",
       "4   80     Crime\n",
       "16  53  Thriller"
      ]
     },
     "execution_count": 17,
     "metadata": {},
     "output_type": "execute_result"
    }
   ],
   "source": [
    "#What genre is id 53?\n",
    "genres.loc[(genres['id'] == 53) | (genres['id'] == 80) | (genres['id'] == 28)]"
   ]
  },
  {
   "cell_type": "markdown",
   "id": "bd8d8a99",
   "metadata": {},
   "source": [
    "Thriller is another of our most popular genres, and it pairs reasonably frequently with drama. Action and crime movies are also frequent."
   ]
  },
  {
   "cell_type": "markdown",
   "id": "684920b3",
   "metadata": {},
   "source": [
    "## Comedy"
   ]
  },
  {
   "cell_type": "code",
   "execution_count": 18,
   "id": "58a16b28",
   "metadata": {},
   "outputs": [
    {
     "data": {
      "text/html": [
       "<div>\n",
       "<style scoped>\n",
       "    .dataframe tbody tr th:only-of-type {\n",
       "        vertical-align: middle;\n",
       "    }\n",
       "\n",
       "    .dataframe tbody tr th {\n",
       "        vertical-align: top;\n",
       "    }\n",
       "\n",
       "    .dataframe thead th {\n",
       "        text-align: right;\n",
       "    }\n",
       "</style>\n",
       "<table border=\"1\" class=\"dataframe\">\n",
       "  <thead>\n",
       "    <tr style=\"text-align: right;\">\n",
       "      <th></th>\n",
       "      <th>Title</th>\n",
       "      <th>Viewership Score_x</th>\n",
       "      <th>genre_ids_y</th>\n",
       "      <th>original_language</th>\n",
       "      <th>overview</th>\n",
       "      <th>popularity</th>\n",
       "      <th>vote_average</th>\n",
       "      <th>vote_count</th>\n",
       "      <th>release_date</th>\n",
       "      <th>Netflix Release Date</th>\n",
       "      <th>Days in Top Ten</th>\n",
       "    </tr>\n",
       "  </thead>\n",
       "  <tbody>\n",
       "    <tr>\n",
       "      <th>0</th>\n",
       "      <td>The Mitchells vs. The Machines</td>\n",
       "      <td>204</td>\n",
       "      <td>[16, 12, 35, 10751, 878]</td>\n",
       "      <td>en</td>\n",
       "      <td>A quirky, dysfunctional family's road trip is ...</td>\n",
       "      <td>117.264</td>\n",
       "      <td>8.0</td>\n",
       "      <td>898</td>\n",
       "      <td>2021-04-22</td>\n",
       "      <td>30-Apr-21</td>\n",
       "      <td>31</td>\n",
       "    </tr>\n",
       "    <tr>\n",
       "      <th>1</th>\n",
       "      <td>We Can Be Heroes</td>\n",
       "      <td>144</td>\n",
       "      <td>[28, 14, 10751, 35]</td>\n",
       "      <td>en</td>\n",
       "      <td>When alien invaders capture Earth's superheroe...</td>\n",
       "      <td>236.653</td>\n",
       "      <td>6.3</td>\n",
       "      <td>484</td>\n",
       "      <td>2020-12-25</td>\n",
       "      <td>25-Dec-20</td>\n",
       "      <td>24</td>\n",
       "    </tr>\n",
       "    <tr>\n",
       "      <th>2</th>\n",
       "      <td>Yes Day</td>\n",
       "      <td>126</td>\n",
       "      <td>[35, 10751]</td>\n",
       "      <td>en</td>\n",
       "      <td>A mom and dad who usually say no decide to say...</td>\n",
       "      <td>155.542</td>\n",
       "      <td>7.0</td>\n",
       "      <td>578</td>\n",
       "      <td>2021-03-12</td>\n",
       "      <td>12-Mar-21</td>\n",
       "      <td>15</td>\n",
       "    </tr>\n",
       "    <tr>\n",
       "      <th>3</th>\n",
       "      <td>Thunder Force</td>\n",
       "      <td>112</td>\n",
       "      <td>[28, 12, 35]</td>\n",
       "      <td>en</td>\n",
       "      <td>In a world where supervillains are commonplace...</td>\n",
       "      <td>622.463</td>\n",
       "      <td>5.8</td>\n",
       "      <td>628</td>\n",
       "      <td>2021-04-09</td>\n",
       "      <td>9-Apr-21</td>\n",
       "      <td>16</td>\n",
       "    </tr>\n",
       "    <tr>\n",
       "      <th>4</th>\n",
       "      <td>I Care a Lot.</td>\n",
       "      <td>103</td>\n",
       "      <td>[35, 80, 53]</td>\n",
       "      <td>en</td>\n",
       "      <td>A court-appointed legal guardian defrauds her ...</td>\n",
       "      <td>114.290</td>\n",
       "      <td>6.7</td>\n",
       "      <td>1458</td>\n",
       "      <td>2021-02-19</td>\n",
       "      <td>19-Feb-21</td>\n",
       "      <td>15</td>\n",
       "    </tr>\n",
       "  </tbody>\n",
       "</table>\n",
       "</div>"
      ],
      "text/plain": [
       "                            Title  Viewership Score_x  \\\n",
       "0  The Mitchells vs. The Machines                 204   \n",
       "1                We Can Be Heroes                 144   \n",
       "2                         Yes Day                 126   \n",
       "3                   Thunder Force                 112   \n",
       "4                   I Care a Lot.                 103   \n",
       "\n",
       "                genre_ids_y original_language  \\\n",
       "0  [16, 12, 35, 10751, 878]                en   \n",
       "1       [28, 14, 10751, 35]                en   \n",
       "2               [35, 10751]                en   \n",
       "3              [28, 12, 35]                en   \n",
       "4              [35, 80, 53]                en   \n",
       "\n",
       "                                            overview  popularity  \\\n",
       "0  A quirky, dysfunctional family's road trip is ...     117.264   \n",
       "1  When alien invaders capture Earth's superheroe...     236.653   \n",
       "2  A mom and dad who usually say no decide to say...     155.542   \n",
       "3  In a world where supervillains are commonplace...     622.463   \n",
       "4  A court-appointed legal guardian defrauds her ...     114.290   \n",
       "\n",
       "   vote_average  vote_count release_date Netflix Release Date  Days in Top Ten  \n",
       "0           8.0         898   2021-04-22            30-Apr-21               31  \n",
       "1           6.3         484   2020-12-25            25-Dec-20               24  \n",
       "2           7.0         578   2021-03-12            12-Mar-21               15  \n",
       "3           5.8         628   2021-04-09             9-Apr-21               16  \n",
       "4           6.7        1458   2021-02-19            19-Feb-21               15  "
      ]
     },
     "execution_count": 18,
     "metadata": {},
     "output_type": "execute_result"
    }
   ],
   "source": [
    "comedies = movie_genres.loc[movie_genres['genre_ids'] == 35]\n",
    "comedy_details = comedies.merge(df, on='Title')\n",
    "comedy_details.drop(columns=['genre_ids_x', 'Viewership Score_y', 'id', 'Type', 'title'], inplace=True)\n",
    "comedy_details.head()"
   ]
  },
  {
   "cell_type": "code",
   "execution_count": 19,
   "id": "978471e2",
   "metadata": {},
   "outputs": [
    {
     "name": "stdout",
     "output_type": "stream",
     "text": [
      "A quirky, dysfunctional family's road trip is upended when they find themselves in the middle of the robot apocalypse and suddenly become humanity's unlikeliest last hope.\n",
      "\n",
      "\n",
      "When alien invaders capture Earth's superheroes, their kids must learn to work together to save their parents - and the planet.\n",
      "\n",
      "\n",
      "A mom and dad who usually say no decide to say yes to their kids' wildest requests — with a few ground rules — on a whirlwind day of fun and adventure.\n",
      "\n",
      "\n",
      "In a world where supervillains are commonplace, two estranged childhood best friends reunite after one devises a treatment that gives them powers to protect their city.\n",
      "\n",
      "\n",
      "A court-appointed legal guardian defrauds her older clients and traps them under her care. But her latest mark comes with some unexpected baggage.\n",
      "\n",
      "\n",
      "Two pals embark on a road trip full of funny pranks that pull real people into mayhem.\n",
      "\n",
      "\n",
      "Two Brooklyn siblings' summer in a rural Oahu town takes an exciting turn when a journal pointing to long-lost treasure sets them on an adventure, leading them to reconnect with their Hawaiian heritage.\n",
      "\n",
      "\n",
      "Animal pals Alex, Marty, Melman, and Gloria are still trying to make it back to New York's Central Park Zoo. They are forced to take a detour to Europe to find the penguins and chimps who broke the bank at a Monte Carlo casino. When French animal-control officer Capitaine Chantel DuBois picks up their scent, Alex and company are forced to hide out in a traveling circus.\n",
      "\n",
      "\n",
      "The Secret Magic Control Agency sends its two best agents, Hansel and Gretel, to fight against the witch of the Gingerbread House.\n",
      "\n",
      "\n",
      "Based on the true story of two young men, David Packouz and Efraim Diveroli, who won a $300 million contract from the Pentagon to arm America's allies in Afghanistan.\n",
      "\n",
      "\n"
     ]
    }
   ],
   "source": [
    "for i in list(comedy_details['overview'][:10]):\n",
    "    print(i)\n",
    "    print('\\n')"
   ]
  },
  {
   "cell_type": "markdown",
   "id": "3cfef088",
   "metadata": {},
   "source": [
    "Where isolation was a recurring theme in the drama category, family is an even stronger theme amongst the comedies. This observation leads me to assume that \"Family\" will be a key co-occurring genre with comedies."
   ]
  },
  {
   "cell_type": "code",
   "execution_count": 20,
   "id": "b0586e02",
   "metadata": {},
   "outputs": [
    {
     "data": {
      "image/png": "[encoded data removed]",
      "text/plain": [
       "<Figure size 576x576 with 1 Axes>"
      ]
     },
     "metadata": {},
     "output_type": "display_data"
    }
   ],
   "source": [
    "comedy_chart = genre_count(comedy_details['genre_ids_y'])\n",
    "comedy_chart.pop(35)\n",
    "fig = plt.figure(figsize=(8,8))\n",
    "plt.pie(comedy_chart.values(), labels = comedy_chart.keys());"
   ]
  },
  {
   "cell_type": "code",
   "execution_count": 24,
   "id": "15c54c7d",
   "metadata": {},
   "outputs": [
    {
     "data": {
      "text/html": [
       "<div>\n",
       "<style scoped>\n",
       "    .dataframe tbody tr th:only-of-type {\n",
       "        vertical-align: middle;\n",
       "    }\n",
       "\n",
       "    .dataframe tbody tr th {\n",
       "        vertical-align: top;\n",
       "    }\n",
       "\n",
       "    .dataframe thead th {\n",
       "        text-align: right;\n",
       "    }\n",
       "</style>\n",
       "<table border=\"1\" class=\"dataframe\">\n",
       "  <thead>\n",
       "    <tr style=\"text-align: right;\">\n",
       "      <th></th>\n",
       "      <th>id</th>\n",
       "      <th>name</th>\n",
       "    </tr>\n",
       "  </thead>\n",
       "  <tbody>\n",
       "    <tr>\n",
       "      <th>1</th>\n",
       "      <td>12</td>\n",
       "      <td>Adventure</td>\n",
       "    </tr>\n",
       "    <tr>\n",
       "      <th>7</th>\n",
       "      <td>10751</td>\n",
       "      <td>Family</td>\n",
       "    </tr>\n",
       "  </tbody>\n",
       "</table>\n",
       "</div>"
      ],
      "text/plain": [
       "      id       name\n",
       "1     12  Adventure\n",
       "7  10751     Family"
      ]
     },
     "execution_count": 24,
     "metadata": {},
     "output_type": "execute_result"
    }
   ],
   "source": [
    "genres.loc[(genres['id'] ==12) | (genres['id'] ==10751)]"
   ]
  },
  {
   "cell_type": "markdown",
   "id": "45054550",
   "metadata": {},
   "source": [
    "This is, in fact, the case. Two genres that commonly occur with \"comedy\" are \"Family\" and \"Adventure\""
   ]
  },
  {
   "cell_type": "markdown",
   "id": "1bce7398",
   "metadata": {},
   "source": [
    "## Thriller"
   ]
  },
  {
   "cell_type": "code",
   "execution_count": 21,
   "id": "691352ce",
   "metadata": {},
   "outputs": [
    {
     "data": {
      "text/html": [
       "<div>\n",
       "<style scoped>\n",
       "    .dataframe tbody tr th:only-of-type {\n",
       "        vertical-align: middle;\n",
       "    }\n",
       "\n",
       "    .dataframe tbody tr th {\n",
       "        vertical-align: top;\n",
       "    }\n",
       "\n",
       "    .dataframe thead th {\n",
       "        text-align: right;\n",
       "    }\n",
       "</style>\n",
       "<table border=\"1\" class=\"dataframe\">\n",
       "  <thead>\n",
       "    <tr style=\"text-align: right;\">\n",
       "      <th></th>\n",
       "      <th>Title</th>\n",
       "      <th>Viewership Score_x</th>\n",
       "      <th>genre_ids_y</th>\n",
       "      <th>original_language</th>\n",
       "      <th>overview</th>\n",
       "      <th>popularity</th>\n",
       "      <th>vote_average</th>\n",
       "      <th>vote_count</th>\n",
       "      <th>release_date</th>\n",
       "      <th>Netflix Release Date</th>\n",
       "      <th>Days in Top Ten</th>\n",
       "    </tr>\n",
       "  </thead>\n",
       "  <tbody>\n",
       "    <tr>\n",
       "      <th>0</th>\n",
       "      <td>I Care a Lot.</td>\n",
       "      <td>103</td>\n",
       "      <td>[35, 80, 53]</td>\n",
       "      <td>en</td>\n",
       "      <td>A court-appointed legal guardian defrauds her ...</td>\n",
       "      <td>114.290</td>\n",
       "      <td>6.7</td>\n",
       "      <td>1458</td>\n",
       "      <td>2021-02-19</td>\n",
       "      <td>19-Feb-21</td>\n",
       "      <td>15</td>\n",
       "    </tr>\n",
       "    <tr>\n",
       "      <th>1</th>\n",
       "      <td>The Woman in the Window</td>\n",
       "      <td>100</td>\n",
       "      <td>[80, 9648, 53]</td>\n",
       "      <td>en</td>\n",
       "      <td>An agoraphobic woman living alone in New York ...</td>\n",
       "      <td>179.725</td>\n",
       "      <td>6.2</td>\n",
       "      <td>845</td>\n",
       "      <td>2021-05-14</td>\n",
       "      <td>14-May-21</td>\n",
       "      <td>11</td>\n",
       "    </tr>\n",
       "    <tr>\n",
       "      <th>2</th>\n",
       "      <td>Army of the Dead</td>\n",
       "      <td>89</td>\n",
       "      <td>[28, 27, 53, 80]</td>\n",
       "      <td>en</td>\n",
       "      <td>Following a zombie outbreak in Las Vegas, a gr...</td>\n",
       "      <td>2488.045</td>\n",
       "      <td>6.6</td>\n",
       "      <td>1430</td>\n",
       "      <td>2021-05-14</td>\n",
       "      <td>21-May-21</td>\n",
       "      <td>10</td>\n",
       "    </tr>\n",
       "    <tr>\n",
       "      <th>3</th>\n",
       "      <td>Deadly Illusions</td>\n",
       "      <td>82</td>\n",
       "      <td>[18, 53]</td>\n",
       "      <td>en</td>\n",
       "      <td>A bestselling female novelist, suffering from ...</td>\n",
       "      <td>44.376</td>\n",
       "      <td>5.0</td>\n",
       "      <td>186</td>\n",
       "      <td>2021-03-18</td>\n",
       "      <td>18-Mar-21</td>\n",
       "      <td>10</td>\n",
       "    </tr>\n",
       "    <tr>\n",
       "      <th>4</th>\n",
       "      <td>Homefront</td>\n",
       "      <td>74</td>\n",
       "      <td>[28, 53]</td>\n",
       "      <td>en</td>\n",
       "      <td>Phil Broker is a former DEA agent who has gone...</td>\n",
       "      <td>35.055</td>\n",
       "      <td>6.9</td>\n",
       "      <td>2554</td>\n",
       "      <td>2013-11-12</td>\n",
       "      <td>18-Jan-21</td>\n",
       "      <td>12</td>\n",
       "    </tr>\n",
       "  </tbody>\n",
       "</table>\n",
       "</div>"
      ],
      "text/plain": [
       "                     Title  Viewership Score_x       genre_ids_y  \\\n",
       "0            I Care a Lot.                 103      [35, 80, 53]   \n",
       "1  The Woman in the Window                 100    [80, 9648, 53]   \n",
       "2         Army of the Dead                  89  [28, 27, 53, 80]   \n",
       "3         Deadly Illusions                  82          [18, 53]   \n",
       "4                Homefront                  74          [28, 53]   \n",
       "\n",
       "  original_language                                           overview  \\\n",
       "0                en  A court-appointed legal guardian defrauds her ...   \n",
       "1                en  An agoraphobic woman living alone in New York ...   \n",
       "2                en  Following a zombie outbreak in Las Vegas, a gr...   \n",
       "3                en  A bestselling female novelist, suffering from ...   \n",
       "4                en  Phil Broker is a former DEA agent who has gone...   \n",
       "\n",
       "   popularity  vote_average  vote_count release_date Netflix Release Date  \\\n",
       "0     114.290           6.7        1458   2021-02-19            19-Feb-21   \n",
       "1     179.725           6.2         845   2021-05-14            14-May-21   \n",
       "2    2488.045           6.6        1430   2021-05-14            21-May-21   \n",
       "3      44.376           5.0         186   2021-03-18            18-Mar-21   \n",
       "4      35.055           6.9        2554   2013-11-12            18-Jan-21   \n",
       "\n",
       "   Days in Top Ten  \n",
       "0               15  \n",
       "1               11  \n",
       "2               10  \n",
       "3               10  \n",
       "4               12  "
      ]
     },
     "execution_count": 21,
     "metadata": {},
     "output_type": "execute_result"
    }
   ],
   "source": [
    "thriller = movie_genres.loc[movie_genres['genre_ids'] == 53]\n",
    "thriller_details = thriller.merge(df, on='Title')\n",
    "thriller_details.drop(columns=['genre_ids_x', 'Viewership Score_y', 'id', 'Type', 'title'], inplace=True)\n",
    "thriller_details.head()"
   ]
  },
  {
   "cell_type": "code",
   "execution_count": 29,
   "id": "a56b0879",
   "metadata": {},
   "outputs": [
    {
     "name": "stdout",
     "output_type": "stream",
     "text": [
      "A court-appointed legal guardian defrauds her older clients and traps them under her care. But her latest mark comes with some unexpected baggage.\n",
      "\n",
      "\n",
      "An agoraphobic woman living alone in New York begins spying on her new neighbors only to witness a disturbing act of violence.\n",
      "\n",
      "\n",
      "Following a zombie outbreak in Las Vegas, a group of mercenaries take the ultimate gamble: venturing into the quarantine zone to pull off the greatest heist ever attempted.\n",
      "\n",
      "\n",
      "A bestselling female novelist, suffering from writer's block, hires an innocent young woman to watch over her twin children. As the novelist dangerously indulges in her new best seller, the line between the life she's writing and the one she's living becomes blurred.\n",
      "\n",
      "\n",
      "Phil Broker is a former DEA agent who has gone through a crisis after his action against a biker gang went horribly wrong and it cost the life of his boss' son. He is recently widowed and is left with a 9-years-old daughter, Maddy. He decides to quit the turbulent and demanding life of thrill for Maddy's sake and retires to a small town. His daughter fights off a boy who was bullying her at school and this sets in motion a round of events that end in his direct confrontation with the local Meth drug lord. His past history with the biker gang also enters the arena, making matters more complex. But he has a mission in his mind to protect his daughter and he is ready to pay any cost that it demands.\n",
      "\n",
      "\n",
      "A three-person crew on a mission to Mars faces an impossible choice when an unplanned passenger jeopardizes the lives of everyone on board.\n",
      "\n",
      "\n",
      "In the near future, a drone pilot is sent into a deadly militarized zone and must work with an android officer to locate a doomsday device.\n",
      "\n",
      "\n",
      "Two New Orleans paramedics' lives are ripped apart after encountering a series of horrific deaths linked to a designer drug with bizarre, otherworldly effects.\n",
      "\n",
      "\n",
      "Liberty, a socially awkward 16-year-old, returns from two months at camp to a blindsided introduction of her mother’s fiancé, John Smith, whose charm, intelligence, and beauty paint the picture of a man too perfect to be human.\n",
      "\n",
      "\n",
      "Pot growers Ben and Chon face off against the Mexican drug cartel who kidnapped their shared girlfriend.\n",
      "\n",
      "\n"
     ]
    }
   ],
   "source": [
    "for i in list(thriller_details['overview'][:10]):\n",
    "    print(i)\n",
    "    print('\\n')"
   ]
  },
  {
   "cell_type": "markdown",
   "id": "5ab332e0",
   "metadata": {},
   "source": [
    "Unsurprisingly, several of the movies we saw in the Drama category occur in this table as well."
   ]
  },
  {
   "cell_type": "code",
   "execution_count": 22,
   "id": "6a068177",
   "metadata": {},
   "outputs": [
    {
     "data": {
      "image/png": "[encoded data removed]",
      "text/plain": [
       "<Figure size 576x576 with 1 Axes>"
      ]
     },
     "metadata": {},
     "output_type": "display_data"
    }
   ],
   "source": [
    "thriller_chart = genre_count(thriller_details['genre_ids_y'])\n",
    "thriller_chart.pop(53)\n",
    "fig = plt.figure(figsize=(8,8))\n",
    "plt.pie(thriller_chart.values(), labels = thriller_chart.keys());"
   ]
  },
  {
   "cell_type": "code",
   "execution_count": 31,
   "id": "641b55cb",
   "metadata": {},
   "outputs": [
    {
     "data": {
      "text/html": [
       "<div>\n",
       "<style scoped>\n",
       "    .dataframe tbody tr th:only-of-type {\n",
       "        vertical-align: middle;\n",
       "    }\n",
       "\n",
       "    .dataframe tbody tr th {\n",
       "        vertical-align: top;\n",
       "    }\n",
       "\n",
       "    .dataframe thead th {\n",
       "        text-align: right;\n",
       "    }\n",
       "</style>\n",
       "<table border=\"1\" class=\"dataframe\">\n",
       "  <thead>\n",
       "    <tr style=\"text-align: right;\">\n",
       "      <th></th>\n",
       "      <th>id</th>\n",
       "      <th>name</th>\n",
       "    </tr>\n",
       "  </thead>\n",
       "  <tbody>\n",
       "    <tr>\n",
       "      <th>0</th>\n",
       "      <td>28</td>\n",
       "      <td>Action</td>\n",
       "    </tr>\n",
       "    <tr>\n",
       "      <th>4</th>\n",
       "      <td>80</td>\n",
       "      <td>Crime</td>\n",
       "    </tr>\n",
       "    <tr>\n",
       "      <th>6</th>\n",
       "      <td>18</td>\n",
       "      <td>Drama</td>\n",
       "    </tr>\n",
       "  </tbody>\n",
       "</table>\n",
       "</div>"
      ],
      "text/plain": [
       "   id    name\n",
       "0  28  Action\n",
       "4  80   Crime\n",
       "6  18   Drama"
      ]
     },
     "execution_count": 31,
     "metadata": {},
     "output_type": "execute_result"
    }
   ],
   "source": [
    "genres.loc[(genres['id'] == 18) | (genres['id'] == 28) | (genres['id'] == 80)]"
   ]
  },
  {
   "cell_type": "markdown",
   "id": "b0f85db0",
   "metadata": {},
   "source": [
    "Here we see the same four genres together again--drama, action, thriller, crime. If we look back at our chart of values, we can see that action and crime are the next two most popular genres, which reinforces that this is a potent combo right now."
   ]
  },
  {
   "cell_type": "markdown",
   "id": "e8e97f4c",
   "metadata": {},
   "source": [
    "## Conclusions"
   ]
  },
  {
   "cell_type": "markdown",
   "id": "1c5024d0",
   "metadata": {},
   "source": [
    "Based on this data, my recommendations for Microsoft are:\n",
    "- **Focus on drama/thriller/crime/action movies.** The combination of these four genres holds a high market share, and it seems a safe bet that people will turn out to see these types of movies.\n",
    "- **Don't ignore family comedies.** Diversification is important in all areas of business, and movie making is no exception. As the second most popular individual genre, comedies are important."
   ]
  },
  {
   "cell_type": "markdown",
   "id": "dfe59886",
   "metadata": {},
   "source": [
    "## Next Steps"
   ]
  },
  {
   "cell_type": "markdown",
   "id": "1f82abd0",
   "metadata": {},
   "source": [
    "- **Netflix only accounts for 20% of the home streaming market.** Further analysis into top titles on other streaming platforms such as Amazon Prime, Hulu, HBO, and Disney+ would increase the amount of data and increase confidence in this analysis"
   ]
  }
 ],
 "metadata": {
  "kernelspec": {
   "display_name": "Python 3",
   "language": "python",
   "name": "python3"
  },
  "language_info": {
   "codemirror_mode": {
    "name": "ipython",
    "version": 3
   },
   "file_extension": ".py",
   "mimetype": "text/x-python",
   "name": "python",
   "nbconvert_exporter": "python",
   "pygments_lexer": "ipython3",
   "version": "3.8.8"
  }
 },
 "nbformat": 4,
 "nbformat_minor": 5
}
