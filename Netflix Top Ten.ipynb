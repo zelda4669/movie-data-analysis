{
 "cells": [
  {
   "cell_type": "markdown",
   "id": "883d5428",
   "metadata": {},
   "source": [
    "# Netflix Top Ten"
   ]
  },
  {
   "cell_type": "markdown",
   "id": "5b54deba",
   "metadata": {},
   "source": [
    "Text here"
   ]
  },
  {
   "cell_type": "code",
   "execution_count": 60,
   "id": "5537c78b",
   "metadata": {},
   "outputs": [],
   "source": [
    "#import necessary libraries\n",
    "import pandas as pd\n",
    "import numpy as np\n",
    "import seaborn as sns\n",
    "import matplotlib.pyplot as plt\n",
    "%matplotlib inline\n",
    "\n",
    "#import dataset\n",
    "df = pd.read_csv('data/Edited Data/Netflix Top Ten with Info.csv', converters={'genre_ids': eval})\n",
    "genres = pd.read_csv('data/edited data/tmdb genres.csv')"
   ]
  },
  {
   "cell_type": "code",
   "execution_count": 111,
   "id": "625d08c5",
   "metadata": {},
   "outputs": [],
   "source": [
    "#prepare table for plotting\n",
    "#assemble only columns relevant to the visualization\n",
    "movie_genres = df.loc[:, ['Title', 'genre_ids', 'Viewership Score', 'Type']]\n",
    "\n",
    "#expand list of genre ids\n",
    "movie_genres = movie_genres.explode('genre_ids')\n",
    "\n",
    "#merge in genre names\n",
    "graph = movie_genres.merge(genres, left_on='genre_ids', right_on='id')"
   ]
  },
  {
   "cell_type": "code",
   "execution_count": 110,
   "id": "41f01431",
   "metadata": {},
   "outputs": [
    {
     "data": {
      "image/png": "[encoded data removed]",
      "text/plain": [
       "<Figure size 864x720 with 1 Axes>"
      ]
     },
     "metadata": {
      "needs_background": "light"
     },
     "output_type": "display_data"
    }
   ],
   "source": [
    "#create plot\n",
    "fig = plt.figure(figsize=(12,10))\n",
    "fig.suptitle('Genres of Netflix Top Ten Titles')\n",
    "plt.xlabel('Count')\n",
    "plt.ylabel('Genres')\n",
    "sns.countplot(data=graph, y='name', order = graph['name'].value_counts().index);"
   ]
  },
  {
   "cell_type": "markdown",
   "id": "9ffcc801",
   "metadata": {},
   "source": [
    "We can see from this graph that dramas are much more popular than any other genre. Let's examine the dramas to see what they have in common"
   ]
  },
  {
   "cell_type": "code",
   "execution_count": 121,
   "id": "b418a465",
   "metadata": {},
   "outputs": [],
   "source": [
    "dramas = movie_genres.loc[(movie_genres['genre_ids'] == 18) & (movie_genres['Type'] == 'Movie')]\n",
    "drama_details = dramas.merge(df, on='Title')\n",
    "drama_details.drop(columns=['genre_ids_x', 'Type_x', 'Type_y', 'Viewership Score_y', 'first_air_date', 'id', 'media_type', 'name', 'origin_country'], inplace=True)\n",
    "drama_details"
   ]
  },
  {
   "cell_type": "code",
   "execution_count": 140,
   "id": "93f6300a",
   "metadata": {},
   "outputs": [
    {
     "data": {
      "text/plain": [
       "[\"A bestselling female novelist, suffering from writer's block, hires an innocent young woman to watch over her twin children. As the novelist dangerously indulges in her new best seller, the line between the life she's writing and the one she's living becomes blurred.\",\n",
       " 'A lone scientist in the Arctic races to contact a crew of astronauts returning home to a mysterious global catastrophe.',\n",
       " 'A three-person crew on a mission to Mars faces an impossible choice when an unplanned passenger jeopardizes the lives of everyone on board.',\n",
       " \"Two New Orleans paramedics' lives are ripped apart after encountering a series of horrific deaths linked to a designer drug with bizarre, otherworldly effects.\",\n",
       " 'Sent to live with his estranged father for the summer, a rebellious teen finds kinship in a tight-knit Philadelphia community of Black cowboys.',\n",
       " 'Pot growers Ben and Chon face off against the Mexican drug cartel who kidnapped their shared girlfriend.',\n",
       " \"A married couple's life is turned upside down when the wife is accused of murdering her boss. Her husband John would spend the next few years trying to get her released, but there's no evidence that negates the evidence against her. When the strain of being separated from her husband and son gets to her, John decides to find a way to break her out.\",\n",
       " \"As WWII looms, a wealthy widow hires an amateur archaeologist to excavate the burial mounds on her estate. When they make a historic discovery, the echoes of Britain's past resonate in the face of its uncertain future\\u200e.\",\n",
       " \"Based on the true story of two young men, David Packouz and Efraim Diveroli, who won a $300 million contract from the Pentagon to arm America's allies in Afghanistan.\",\n",
       " 'Catherine Clare reluctantly trades life in 1980 Manhattan for a remote home in the tiny hamlet of Chosen, New York, after her husband George lands a job teaching art history at a small Hudson Valley college. Even as she does her best to transform the old dairy farm into a place where young daughter Franny will be happy, Catherine increasingly finds herself isolated and alone. She soon comes to sense a sinister darkness lurking both in the walls of the ramshackle property—and in her marriage to George.']"
      ]
     },
     "execution_count": 140,
     "metadata": {},
     "output_type": "execute_result"
    }
   ],
   "source": [
    "list(drama_details['overview'][:10])"
   ]
  },
  {
   "cell_type": "markdown",
   "id": "13e60527",
   "metadata": {},
   "source": [
    "Briefly examining the synopses for the ten most popular dramas on Netflix in 2021, isolation is a recurring theme. That makes a lot of sense when you consider the isolation we have all been dealing with during the pandemic--but this could also indicate that as restrictions ease, stories about isolation will become less popular."
   ]
  },
  {
   "cell_type": "code",
   "execution_count": null,
   "id": "1445f440",
   "metadata": {},
   "outputs": [],
   "source": []
  }
 ],
 "metadata": {
  "kernelspec": {
   "display_name": "Python 3",
   "language": "python",
   "name": "python3"
  },
  "language_info": {
   "codemirror_mode": {
    "name": "ipython",
    "version": 3
   },
   "file_extension": ".py",
   "mimetype": "text/x-python",
   "name": "python",
   "nbconvert_exporter": "python",
   "pygments_lexer": "ipython3",
   "version": "3.8.8"
  }
 },
 "nbformat": 4,
 "nbformat_minor": 5
}
